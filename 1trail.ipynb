{
    "cells": [
        {
            "metadata": {},
            "cell_type": "markdown",
            "source": "# My Jupyter Notebook on IBM Watson Studio"
        },
        {
            "metadata": {},
            "cell_type": "markdown",
            "source": "<b>Harris Yang</b>\n\nData Scientist"
        },
        {
            "metadata": {},
            "cell_type": "markdown",
            "source": "I'm interested in ds because I love data..."
        },
        {
            "metadata": {},
            "cell_type": "markdown",
            "source": "### The next chunk is about to build a pyramid"
        },
        {
            "metadata": {},
            "cell_type": "code",
            "source": "for row_num in range(1, 10):\n    print(' '.join(' ' \n                   if index_num > row_num \n                   else str(index_num) \n                   for index_num in range(10, 1, -1)), ' '.join(' ' \n                                                                if index_num > row_num \n                                                                else str(index_num) \n                                                                for index_num in range(1, 10)))",
            "execution_count": 8,
            "outputs": [
                {
                    "output_type": "stream",
                    "text": "                  1                \n                2 1 2              \n              3 2 1 2 3            \n            4 3 2 1 2 3 4          \n          5 4 3 2 1 2 3 4 5        \n        6 5 4 3 2 1 2 3 4 5 6      \n      7 6 5 4 3 2 1 2 3 4 5 6 7    \n    8 7 6 5 4 3 2 1 2 3 4 5 6 7 8  \n  9 8 7 6 5 4 3 2 1 2 3 4 5 6 7 8 9\n",
                    "name": "stdout"
                }
            ]
        },
        {
            "metadata": {},
            "cell_type": "markdown",
            "source": "<hr>\n\n\n\n<a herf = \"https://www.google.com\"> Link to Google </a>\n\n\n<ol>\n<li>E</li>\n<li>T</li>\n<li>L</li>\n</ol>\n"
        }
    ],
    "metadata": {
        "kernelspec": {
            "name": "python3",
            "display_name": "Python 3.6",
            "language": "python"
        },
        "language_info": {
            "name": "python",
            "version": "3.6.9",
            "mimetype": "text/x-python",
            "codemirror_mode": {
                "name": "ipython",
                "version": 3
            },
            "pygments_lexer": "ipython3",
            "nbconvert_exporter": "python",
            "file_extension": ".py"
        }
    },
    "nbformat": 4,
    "nbformat_minor": 1
}